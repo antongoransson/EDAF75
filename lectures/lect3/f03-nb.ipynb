{
 "cells": [
  {
   "cell_type": "markdown",
   "metadata": {},
   "source": [
    "# Some more SQL, and Database modeling"
   ]
  },
  {
   "cell_type": "code",
   "execution_count": null,
   "metadata": {
    "collapsed": true
   },
   "outputs": [],
   "source": [
    "%load_ext sql"
   ]
  },
  {
   "cell_type": "code",
   "execution_count": null,
   "metadata": {
    "collapsed": true
   },
   "outputs": [],
   "source": [
    "%sql sqlite:///lect03.sqlite"
   ]
  },
  {
   "cell_type": "markdown",
   "metadata": {},
   "source": [
    "## Short recapitulation\n",
    "\n",
    "Last time we talked about _inner joins_, in our examples we\n",
    "had three tables:"
   ]
  },
  {
   "cell_type": "code",
   "execution_count": null,
   "metadata": {
    "collapsed": true
   },
   "outputs": [],
   "source": [
    "%%sql\n",
    "SELECT *\n",
    "FROM   students\n",
    "LIMIT  4"
   ]
  },
  {
   "cell_type": "code",
   "execution_count": null,
   "metadata": {
    "collapsed": true
   },
   "outputs": [],
   "source": [
    "%%sql\n",
    "SELECT *\n",
    "FROM   colleges\n",
    "LIMIT  4"
   ]
  },
  {
   "cell_type": "code",
   "execution_count": null,
   "metadata": {
    "collapsed": true
   },
   "outputs": [],
   "source": [
    "%%sql\n",
    "SELECT *\n",
    "FROM   applications\n",
    "LIMIT  4"
   ]
  },
  {
   "cell_type": "markdown",
   "metadata": {},
   "source": [
    "**Exercise:** _Show the names of all students who have\n",
    "applied for a college in California -- also show the college\n",
    "and major._"
   ]
  },
  {
   "cell_type": "code",
   "execution_count": null,
   "metadata": {
    "collapsed": true
   },
   "outputs": [],
   "source": [
    "%%sql\n"
   ]
  },
  {
   "cell_type": "markdown",
   "metadata": {},
   "source": [
    "## Outer joins\n",
    "\n",
    "An inner join combines rows in different tables _when there\n",
    "is a match in the other table_, rows with no corresponding\n",
    "row in the other table will not turn up in the joined table.\n",
    "\n",
    "With an _outer join_ we can make sure that every row in one\n",
    "or both of the tables turn up in the joined table -- in case\n",
    "there is no match, it will be paired with a row containing\n",
    "unly `NULL` values.\n",
    "\n",
    "As as example, we've seen how to join students and their\n",
    "applications:"
   ]
  },
  {
   "cell_type": "code",
   "execution_count": null,
   "metadata": {
    "collapsed": true
   },
   "outputs": [],
   "source": [
    "%%sql\n",
    "SELECT s_name, s_id, c_name, major\n",
    "FROM   students\n",
    "JOIN   applications\n",
    "USING  (s_id)"
   ]
  },
  {
   "cell_type": "markdown",
   "metadata": {},
   "source": [
    "Now, assume we also want to see those students who haven't\n",
    "applied, we can do that using a _left outer join_:"
   ]
  },
  {
   "cell_type": "code",
   "execution_count": null,
   "metadata": {
    "collapsed": true
   },
   "outputs": [],
   "source": [
    "%%sql\n",
    "SELECT          s_name, s_id, c_name, major\n",
    "FROM            students\n",
    "LEFT OUTER JOIN applications\n",
    "USING           (s_id)"
   ]
  },
  {
   "cell_type": "markdown",
   "metadata": {},
   "source": [
    "We still get the rows we got before, but now we also get\n",
    "rows with `NULL`'s in the attributes from the right\n",
    "relation, if there is no row in the right table which\n",
    "corresponds to a row in the left table (i.e., the `s_id`\n",
    "found in the `students` table has no match in the\n",
    "`applications` table -- the tuples on the left are sometimes\n",
    "called _dangling tuples_).\n",
    "\n",
    "**Question:** _How can we use the `NULL`-padded rows from a\n",
    "left outer join?_ (there's an answer at the end)\n",
    "\n",
    "By the way, we can omit the `OUTER` keyword:"
   ]
  },
  {
   "cell_type": "code",
   "execution_count": null,
   "metadata": {
    "collapsed": true
   },
   "outputs": [],
   "source": [
    "%%sql\n",
    "SELECT    s_name, s_id, c_name, major\n",
    "FROM      students\n",
    "LEFT JOIN applications\n",
    "USING     (s_id)"
   ]
  },
  {
   "cell_type": "markdown",
   "metadata": {},
   "source": [
    "There is a 'natural' version of outer joins ..."
   ]
  },
  {
   "cell_type": "code",
   "execution_count": null,
   "metadata": {
    "collapsed": true
   },
   "outputs": [],
   "source": [
    "%%sql\n",
    "SELECT            s_name, s_id, c_name, major\n",
    "FROM              students\n",
    "NATURAL LEFT JOIN applications"
   ]
  },
  {
   "cell_type": "markdown",
   "metadata": {},
   "source": [
    "... but for the same reasons as for inner joins, it's much\n",
    "better to explicitly declare which attribute we're joining\n",
    "(using `USING`).\n",
    "\n",
    "There is a way to get the same result without inner or outer\n",
    "joins, but it requires more code:"
   ]
  },
  {
   "cell_type": "code",
   "execution_count": null,
   "metadata": {
    "collapsed": true
   },
   "outputs": [],
   "source": [
    "%%sql\n",
    "SELECT s_name, s.s_id, c_name, major\n",
    "FROM   students s, applications a\n",
    "WHERE  s.s_id = a.s_id\n",
    "UNION\n",
    "SELECT s_name, s_id, NULL, NULL\n",
    "FROM   students\n",
    "WHERE  s_id NOT IN (SELECT s_id\n",
    "                    FROM   applications)"
   ]
  },
  {
   "cell_type": "markdown",
   "metadata": {},
   "source": [
    "Seing this might help you understand what left outer join\n",
    "actually returns.\n",
    "\n",
    "Now, the opposite problem, we want to see applications with\n",
    "no matching students -- of course we could just swap\n",
    "`students` and `applications` in the query above, but we\n",
    "could also use a _right outer join_:"
   ]
  },
  {
   "cell_type": "code",
   "execution_count": null,
   "metadata": {
    "collapsed": true
   },
   "outputs": [],
   "source": [
    "%%sql\n",
    "SELECT     s_name, s_id, c_name, major\n",
    "FROM       students\n",
    "RIGHT JOIN applications USING (s_id)"
   ]
  },
  {
   "cell_type": "markdown",
   "metadata": {},
   "source": [
    "Right outer joins are not supported in SQLite (yet), though.\n",
    "\n",
    "There is also a _full outer join_, which combines the left-\n",
    "and the right outer joins:"
   ]
  },
  {
   "cell_type": "code",
   "execution_count": null,
   "metadata": {
    "collapsed": true
   },
   "outputs": [],
   "source": [
    "%%sql\n",
    "SELECT    s_name, s_id, c_name, major\n",
    "FROM      students\n",
    "FULL JOIN applications USING (s_id)"
   ]
  },
  {
   "cell_type": "markdown",
   "metadata": {},
   "source": [
    "Of the outer joins, SQLite only supports left outer, the\n",
    "other ones are left out :-).\n",
    "\n",
    "**Answer to the question above:** We can use outer joins to\n",
    "find missing values, e.g., we can find the names of all\n",
    "studens who haven't applied:"
   ]
  },
  {
   "cell_type": "code",
   "execution_count": null,
   "metadata": {
    "collapsed": true
   },
   "outputs": [],
   "source": [
    "%%sql\n",
    "SELECT    s_id, s_name\n",
    "FROM      students\n",
    "LEFT JOIN applications\n",
    "USING     (s_id)\n",
    "WHERE     c_name IS NULL"
   ]
  },
  {
   "cell_type": "markdown",
   "metadata": {},
   "source": [
    "We do an outer join, and see where the result is padded with\n",
    "`NULL`'s (observe that we have to test it with \"`IS NULL`\").\n",
    "\n",
    "**Exercise:** _Find all 'spurious' applications, i.e.,\n",
    "applications where the student id doesn't match any\n",
    "student._ Try to solve the exercises in two ways (one with\n",
    "an outer join, the other with set operations)."
   ]
  },
  {
   "cell_type": "code",
   "execution_count": null,
   "metadata": {
    "collapsed": true
   },
   "outputs": [],
   "source": [
    "%%sql\n"
   ]
  },
  {
   "cell_type": "code",
   "execution_count": null,
   "metadata": {
    "collapsed": true
   },
   "outputs": [],
   "source": [
    "%%sql\n"
   ]
  },
  {
   "cell_type": "markdown",
   "metadata": {},
   "source": [
    "**Exercise:** _Try to generate the unwieldly college\n",
    "application table we started out with above from the three\n",
    "smaller tables._"
   ]
  },
  {
   "cell_type": "code",
   "execution_count": null,
   "metadata": {
    "collapsed": true
   },
   "outputs": [],
   "source": [
    "%%sql\n"
   ]
  },
  {
   "cell_type": "markdown",
   "metadata": {},
   "source": [
    "## More subqueries\n",
    "\n",
    "Another form of subquery is:"
   ]
  },
  {
   "cell_type": "markdown",
   "metadata": {},
   "source": [
    "```sql\n",
    "SELECT ...,\n",
    "       (SELECT ...\n",
    "        FROM ...\n",
    "        WHERE ...)\n",
    "FROM   ...\n",
    "```\n"
   ]
  },
  {
   "cell_type": "markdown",
   "metadata": {},
   "source": [
    "This works if the subquery produces one result, such as when\n",
    "we use an aggregate function without groups.\n",
    "\n",
    "We can sometimes use this pattern to perform a kind of\n",
    "nestled loop over a table, this normally requires us to use\n",
    "aliases in the `FROM` section -- as an example, solve the\n",
    "following problem:\n",
    "\n",
    "**Exercise:** _Output the name of all laureates, and the number of\n",
    "awards they have -- order first by number of awards, then by\n",
    "name, and show only the first 10._"
   ]
  },
  {
   "cell_type": "code",
   "execution_count": null,
   "metadata": {
    "collapsed": true
   },
   "outputs": [],
   "source": [
    "%%sql\n",
    "SELECT DISTINCT laureate,\n",
    "       (SELECT COUNT(*)\n",
    "        FROM   nobel AS inner\n",
    "        WHERE  inner.laureate = outer.laureate) AS nbr_of_awards\n",
    "FROM   nobel AS outer\n",
    "ORDER BY nbr_of_awards DESC, laureate\n",
    "LIMIT 10"
   ]
  },
  {
   "cell_type": "markdown",
   "metadata": {},
   "source": [
    "This is called a _correlated subquery_ (since we refer to\n",
    "the enclosing query inside it). We use aliases to\n",
    "distinguish between the nobel table in the outer query and\n",
    "the nobel table in the subquery (it's the same table, but we\n",
    "'iterate' through it separately).\n",
    "\n",
    "\n",
    "## Views\n",
    "\n",
    "If we often use some query as part of other queries, we can\n",
    "save it using a _view_:"
   ]
  },
  {
   "cell_type": "code",
   "execution_count": null,
   "metadata": {
    "collapsed": true
   },
   "outputs": [],
   "source": [
    "%%sql\n",
    "CREATE VIEW named_applications AS\n",
    "  SELECT s_id, s_name AS name, major, c_name AS college, state\n",
    "  FROM   applications\n",
    "  JOIN   students\n",
    "  USING  (s_id)\n",
    "  JOIN   colleges\n",
    "  USING  (c_name);\n",
    "\n",
    "SELECT DISTINCT name, state\n",
    "FROM   named_applications\n",
    "WHERE  s_id IN (123, 234, 456);"
   ]
  },
  {
   "cell_type": "markdown",
   "metadata": {},
   "source": [
    "**Exercise:** _Show the year and category for everyone who\n",
    "has won more than one Nobel Prize -- use a view to do it._"
   ]
  },
  {
   "cell_type": "code",
   "execution_count": null,
   "metadata": {
    "collapsed": true
   },
   "outputs": [],
   "source": [
    "%%sql\n",
    "CREATE VIEW multiple_awards AS\n",
    "  SELECT laureate\n",
    "  FROM   nobel\n",
    "  GROUP BY laureate\n",
    "  HAVING COUNT() > 1;\n",
    "\n",
    "SELECT year, category, laureate\n",
    "FROM   multiple_awards\n",
    "JOIN   nobel\n",
    "USING  (laureate)\n",
    "ORDER BY year;"
   ]
  },
  {
   "cell_type": "markdown",
   "metadata": {},
   "source": [
    "A view will be around until someone explicitly drops it:"
   ]
  },
  {
   "cell_type": "code",
   "execution_count": null,
   "metadata": {
    "collapsed": true
   },
   "outputs": [],
   "source": [
    "DROP VIEW IF EXISTS multiple_awards;"
   ]
  },
  {
   "cell_type": "markdown",
   "metadata": {},
   "source": [
    "## Using 'local' tables\n",
    "\n",
    "We can also create one or more 'local tables' in a query,\n",
    "using it is a way to break up a complicated query into\n",
    "smaller pieces while still keeping it to one SQL statement.\n",
    "\n",
    "So instead of creating the view above, we can write:"
   ]
  },
  {
   "cell_type": "code",
   "execution_count": null,
   "metadata": {
    "collapsed": true
   },
   "outputs": [],
   "source": [
    "%%sql\n",
    "WITH multiple_awards AS\n",
    "  (SELECT laureate\n",
    "   FROM   nobel\n",
    "   GROUP BY laureate\n",
    "   HAVING COUNT() > 1)\n",
    "SELECT year, category, laureate\n",
    "FROM   multiple_awards\n",
    "JOIN   nobel\n",
    "USING  (laureate)\n",
    "ORDER BY year;"
   ]
  },
  {
   "cell_type": "markdown",
   "metadata": {},
   "source": [
    "The tables created with `WITH` will disappear as soon as our\n",
    "query is finished, the point of the `WITH` statement is that\n",
    "it's one single query."
   ]
  }
 ],
 "metadata": {
  "kernelspec": {
   "display_name": "Python 3",
   "language": "python",
   "name": "python3"
  },
  "language_info": {
   "codemirror_mode": {
    "name": "ipython",
    "version": 3
   },
   "file_extension": ".py",
   "mimetype": "text/x-python",
   "name": "python",
   "nbconvert_exporter": "python",
   "pygments_lexer": "ipython3",
   "version": "3.6.1"
  }
 },
 "nbformat": 4,
 "nbformat_minor": 2
}
